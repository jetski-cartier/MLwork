{
  "nbformat": 4,
  "nbformat_minor": 0,
  "metadata": {
    "colab": {
      "provenance": [],
      "include_colab_link": true
    },
    "kernelspec": {
      "name": "python3",
      "display_name": "Python 3"
    },
    "language_info": {
      "name": "python"
    }
  },
  "cells": [
    {
      "cell_type": "markdown",
      "metadata": {
        "id": "view-in-github",
        "colab_type": "text"
      },
      "source": [
        "<a href=\"https://colab.research.google.com/github/jetski-cartier/MLwork/blob/main/Model_Overfitting_jeff.ipynb\" target=\"_parent\"><img src=\"https://colab.research.google.com/assets/colab-badge.svg\" alt=\"Open In Colab\"/></a>"
      ]
    },
    {
      "cell_type": "code",
      "execution_count": 2,
      "metadata": {
        "id": "bGT6s2KljY9z"
      },
      "outputs": [],
      "source": []
    },
    {
      "cell_type": "markdown",
      "source": [
        "Synthetic data\n",
        "\n",
        "1500 instances - 0 or 1 - binary problem\n",
        "\n",
        "class 1 3 Gaussian distribution - [6,14], [10,6][14,14]\n",
        "\n",
        "class 0 - Uniform distribution - 20\n"
      ],
      "metadata": {
        "id": "7TB5mSyZjt4Q"
      }
    },
    {
      "cell_type": "code",
      "source": [
        "import numpy as np"
      ],
      "metadata": {
        "id": "f84YoSXLkbBY"
      },
      "execution_count": 3,
      "outputs": []
    },
    {
      "cell_type": "code",
      "source": [
        "import matplotlib.pyplot as plt\n"
      ],
      "metadata": {
        "id": "bFyzEJf5kcu5"
      },
      "execution_count": 4,
      "outputs": []
    },
    {
      "cell_type": "code",
      "source": [
        "#matplotlib inline"
      ],
      "metadata": {
        "id": "IiqaitIUkjMo"
      },
      "execution_count": 5,
      "outputs": []
    },
    {
      "cell_type": "code",
      "source": [
        "from numpy.random import random"
      ],
      "metadata": {
        "id": "sDV4OhMAkmof"
      },
      "execution_count": 6,
      "outputs": []
    },
    {
      "cell_type": "code",
      "source": [
        "N=1500"
      ],
      "metadata": {
        "id": "_HJO1Rgxksfs"
      },
      "execution_count": 7,
      "outputs": []
    },
    {
      "cell_type": "code",
      "source": [
        "mean1=[6,14]"
      ],
      "metadata": {
        "id": "AQrc4WUcku_p"
      },
      "execution_count": 8,
      "outputs": []
    },
    {
      "cell_type": "code",
      "source": [
        "mean2=[10,6]"
      ],
      "metadata": {
        "id": "Mizd7_qYk0oj"
      },
      "execution_count": 9,
      "outputs": []
    },
    {
      "cell_type": "code",
      "source": [
        "mean3=[14,14]"
      ],
      "metadata": {
        "id": "VHHqrA1kk3lI"
      },
      "execution_count": 10,
      "outputs": []
    },
    {
      "cell_type": "code",
      "source": [
        "cov=[[3.5, 0],[0,3.5]]"
      ],
      "metadata": {
        "id": "xkoBIOw2k6cY"
      },
      "execution_count": 11,
      "outputs": []
    },
    {
      "cell_type": "code",
      "source": [
        "cov"
      ],
      "metadata": {
        "colab": {
          "base_uri": "https://localhost:8080/"
        },
        "id": "BvL8dPrclAnv",
        "outputId": "deb4817b-62a6-475b-e1d0-95fe568c576f"
      },
      "execution_count": 12,
      "outputs": [
        {
          "output_type": "execute_result",
          "data": {
            "text/plain": [
              "[[3.5, 0], [0, 3.5]]"
            ]
          },
          "metadata": {},
          "execution_count": 12
        }
      ]
    },
    {
      "cell_type": "code",
      "source": [
        "np.random.seed(50)"
      ],
      "metadata": {
        "id": "SwLbuVSalBSr"
      },
      "execution_count": 13,
      "outputs": []
    },
    {
      "cell_type": "code",
      "source": [
        "X=np.random.multivariate_normal(mean1,cov, int(N/6))"
      ],
      "metadata": {
        "id": "R2y8R6pHly1Y"
      },
      "execution_count": 14,
      "outputs": []
    },
    {
      "cell_type": "code",
      "source": [
        "X.shape"
      ],
      "metadata": {
        "colab": {
          "base_uri": "https://localhost:8080/"
        },
        "id": "BUpnW80LmD8B",
        "outputId": "8e660e51-ef66-46d2-fb5e-0d6146ee353d"
      },
      "execution_count": 15,
      "outputs": [
        {
          "output_type": "execute_result",
          "data": {
            "text/plain": [
              "(250, 2)"
            ]
          },
          "metadata": {},
          "execution_count": 15
        }
      ]
    },
    {
      "cell_type": "code",
      "source": [
        "X[0]"
      ],
      "metadata": {
        "colab": {
          "base_uri": "https://localhost:8080/"
        },
        "id": "jOsCYxEemE1_",
        "outputId": "e58e864f-06af-4100-86a7-3e0de70c3a91"
      },
      "execution_count": 16,
      "outputs": [
        {
          "output_type": "execute_result",
          "data": {
            "text/plain": [
              "array([ 3.0808485 , 13.94204621])"
            ]
          },
          "metadata": {},
          "execution_count": 16
        }
      ]
    },
    {
      "cell_type": "code",
      "source": [
        "X[:,1].sum()"
      ],
      "metadata": {
        "colab": {
          "base_uri": "https://localhost:8080/"
        },
        "id": "6csF7udwmPCq",
        "outputId": "c37b48e1-c239-4717-b5e0-163abbc17396"
      },
      "execution_count": 17,
      "outputs": [
        {
          "output_type": "execute_result",
          "data": {
            "text/plain": [
              "3447.8139448036873"
            ]
          },
          "metadata": {},
          "execution_count": 17
        }
      ]
    },
    {
      "cell_type": "code",
      "source": [
        "3447.8139448036873/250"
      ],
      "metadata": {
        "colab": {
          "base_uri": "https://localhost:8080/"
        },
        "id": "Foiq6K-emTjz",
        "outputId": "af195acf-6cb4-49b1-bbc0-ccf9fbefb1c5"
      },
      "execution_count": 18,
      "outputs": [
        {
          "output_type": "execute_result",
          "data": {
            "text/plain": [
              "13.79125577921475"
            ]
          },
          "metadata": {},
          "execution_count": 18
        }
      ]
    },
    {
      "cell_type": "code",
      "source": [
        "X= np.concatenate((X, np.random.multivariate_normal(mean2, cov, int(N/6))))"
      ],
      "metadata": {
        "id": "A3VYoSrTmbzG"
      },
      "execution_count": 19,
      "outputs": []
    },
    {
      "cell_type": "code",
      "source": [
        "X.shape"
      ],
      "metadata": {
        "colab": {
          "base_uri": "https://localhost:8080/"
        },
        "id": "o_T8LDStm8y4",
        "outputId": "4dd88bab-c5a7-4a86-80d2-421bc469b11e"
      },
      "execution_count": 20,
      "outputs": [
        {
          "output_type": "execute_result",
          "data": {
            "text/plain": [
              "(500, 2)"
            ]
          },
          "metadata": {},
          "execution_count": 20
        }
      ]
    },
    {
      "cell_type": "code",
      "source": [
        "X= np.concatenate((X, np.random.multivariate_normal(mean3, cov, int(N/6))))"
      ],
      "metadata": {
        "id": "hy0ZMBZdnQFP"
      },
      "execution_count": 21,
      "outputs": []
    },
    {
      "cell_type": "code",
      "source": [
        "X.shape"
      ],
      "metadata": {
        "colab": {
          "base_uri": "https://localhost:8080/"
        },
        "id": "te7uxEh9namI",
        "outputId": "20e0702a-15a7-4059-e29d-44a67f1463cb"
      },
      "execution_count": 22,
      "outputs": [
        {
          "output_type": "execute_result",
          "data": {
            "text/plain": [
              "(750, 2)"
            ]
          },
          "metadata": {},
          "execution_count": 22
        }
      ]
    },
    {
      "cell_type": "code",
      "source": [
        "X=np.concatenate((X, 20*np.random.rand(int(N/2), 2)))"
      ],
      "metadata": {
        "id": "LeR31Ft0nb9Y"
      },
      "execution_count": 23,
      "outputs": []
    },
    {
      "cell_type": "code",
      "source": [
        "X.shape"
      ],
      "metadata": {
        "colab": {
          "base_uri": "https://localhost:8080/"
        },
        "id": "0JH6g1HXnu3Y",
        "outputId": "1218a189-b81c-4a0b-d61e-6d4e9ae8a615"
      },
      "execution_count": 24,
      "outputs": [
        {
          "output_type": "execute_result",
          "data": {
            "text/plain": [
              "(1500, 2)"
            ]
          },
          "metadata": {},
          "execution_count": 24
        }
      ]
    },
    {
      "cell_type": "code",
      "source": [
        "X"
      ],
      "metadata": {
        "colab": {
          "base_uri": "https://localhost:8080/"
        },
        "id": "dvNKkIRjnwP5",
        "outputId": "41aa1a09-6bcb-4307-924f-cc27e487e154"
      },
      "execution_count": 25,
      "outputs": [
        {
          "output_type": "execute_result",
          "data": {
            "text/plain": [
              "array([[ 3.0808485 , 13.94204621],\n",
              "       [ 4.83834929, 11.2600208 ],\n",
              "       [ 8.64150932, 13.10811583],\n",
              "       ...,\n",
              "       [17.10881966,  8.27100981],\n",
              "       [ 4.63522923,  4.47963684],\n",
              "       [ 7.45080691,  0.31260003]])"
            ]
          },
          "metadata": {},
          "execution_count": 25
        }
      ]
    },
    {
      "cell_type": "code",
      "source": [
        "y=np.concatenate((np.ones(int(N/2)), np.zeros(int(N/2))))"
      ],
      "metadata": {
        "id": "78InFYQLnyIH"
      },
      "execution_count": 26,
      "outputs": []
    },
    {
      "cell_type": "code",
      "source": [
        "y"
      ],
      "metadata": {
        "colab": {
          "base_uri": "https://localhost:8080/"
        },
        "id": "v1wFwEz1oEcA",
        "outputId": "a1253f02-bccd-4aa8-c799-02718dd9a16e"
      },
      "execution_count": 27,
      "outputs": [
        {
          "output_type": "execute_result",
          "data": {
            "text/plain": [
              "array([1., 1., 1., ..., 0., 0., 0.])"
            ]
          },
          "metadata": {},
          "execution_count": 27
        }
      ]
    },
    {
      "cell_type": "code",
      "source": [
        "plt.plot(X[:int(N/2), 0], X[:int(N/2),1], 'r+', X[int(N/2):,0],X[int(N/2):,1],'k.', ms=4)"
      ],
      "metadata": {
        "colab": {
          "base_uri": "https://localhost:8080/",
          "height": 465
        },
        "id": "R6Ix9urypJFg",
        "outputId": "5bf402bf-b27d-4477-d57e-4c0604e7d4f7"
      },
      "execution_count": 28,
      "outputs": [
        {
          "output_type": "execute_result",
          "data": {
            "text/plain": [
              "[<matplotlib.lines.Line2D at 0x7f2a32fa9f30>,\n",
              " <matplotlib.lines.Line2D at 0x7f2a32fa9fc0>]"
            ]
          },
          "metadata": {},
          "execution_count": 28
        },
        {
          "output_type": "display_data",
          "data": {
            "text/plain": [
              "<Figure size 640x480 with 1 Axes>"
            ],
            "image/png": "[encoded data removed]"
          },
          "metadata": {}
        }
      ]
    },
    {
      "cell_type": "code",
      "source": [
        "X"
      ],
      "metadata": {
        "colab": {
          "base_uri": "https://localhost:8080/"
        },
        "id": "fHQ8ZFMspry6",
        "outputId": "09c22dd2-6598-45c3-e66b-c05146995e5e"
      },
      "execution_count": 29,
      "outputs": [
        {
          "output_type": "execute_result",
          "data": {
            "text/plain": [
              "array([[ 3.0808485 , 13.94204621],\n",
              "       [ 4.83834929, 11.2600208 ],\n",
              "       [ 8.64150932, 13.10811583],\n",
              "       ...,\n",
              "       [17.10881966,  8.27100981],\n",
              "       [ 4.63522923,  4.47963684],\n",
              "       [ 7.45080691,  0.31260003]])"
            ]
          },
          "metadata": {},
          "execution_count": 29
        }
      ]
    },
    {
      "cell_type": "code",
      "source": [
        "y"
      ],
      "metadata": {
        "id": "FSaapmwQqNuM",
        "outputId": "1271b557-d342-43ec-b359-9b692657790b",
        "colab": {
          "base_uri": "https://localhost:8080/"
        }
      },
      "execution_count": 30,
      "outputs": [
        {
          "output_type": "execute_result",
          "data": {
            "text/plain": [
              "array([1., 1., 1., ..., 0., 0., 0.])"
            ]
          },
          "metadata": {},
          "execution_count": 30
        }
      ]
    },
    {
      "cell_type": "markdown",
      "source": [
        "Class--->tuesday 12th march"
      ],
      "metadata": {
        "id": "g2rHrPAJWIg8"
      }
    },
    {
      "cell_type": "code",
      "source": [
        "from sklearn.model_selection import train_test_split\n"
      ],
      "metadata": {
        "id": "KNWmbwPgqPEx"
      },
      "execution_count": 69,
      "outputs": []
    },
    {
      "cell_type": "code",
      "source": [
        "from sklearn.tree import DecisionTreeClassifier\n"
      ],
      "metadata": {
        "id": "6F5rHw09V37r"
      },
      "execution_count": 70,
      "outputs": []
    },
    {
      "cell_type": "code",
      "source": [
        "from sklearn import tree"
      ],
      "metadata": {
        "id": "0ZSBh6LvXghx"
      },
      "execution_count": 71,
      "outputs": []
    },
    {
      "cell_type": "code",
      "source": [
        "from sklearn.metrics import accuracy_score"
      ],
      "metadata": {
        "id": "gn26aB3UYb-5"
      },
      "execution_count": 72,
      "outputs": []
    },
    {
      "cell_type": "code",
      "source": [
        "X_train, X_test, y_train, y_test = train_test_split(X, y, test_size=0.2)"
      ],
      "metadata": {
        "id": "1KIRJAuxT8qU"
      },
      "execution_count": 73,
      "outputs": []
    },
    {
      "cell_type": "code",
      "source": [
        "maxDepth=[2,3,4,5,6,7,8,9,10,15,20,25,30,35,40,45,50,55]"
      ],
      "metadata": {
        "id": "ilBml3IPUwxL"
      },
      "execution_count": 74,
      "outputs": []
    },
    {
      "cell_type": "code",
      "source": [
        "testAcc=np.zeros(len(maxDepth))"
      ],
      "metadata": {
        "id": "qtqW0WlQU-g5"
      },
      "execution_count": 75,
      "outputs": []
    },
    {
      "cell_type": "code",
      "source": [
        "testAcc"
      ],
      "metadata": {
        "colab": {
          "base_uri": "https://localhost:8080/"
        },
        "id": "vowtEjA2VI29",
        "outputId": "c579ff82-2d81-4aaa-bc93-93a5d176d56c"
      },
      "execution_count": 76,
      "outputs": [
        {
          "output_type": "execute_result",
          "data": {
            "text/plain": [
              "array([0., 0., 0., 0., 0., 0., 0., 0., 0., 0., 0., 0., 0., 0., 0., 0., 0.,\n",
              "       0.])"
            ]
          },
          "metadata": {},
          "execution_count": 76
        }
      ]
    },
    {
      "cell_type": "code",
      "source": [
        "from sklearn.metrics import accuracy_score\n",
        "\n",
        "# Initialize trainaccuracy and testAcc lists\n",
        "trainaccuracy = []\n",
        "testAcc = []\n",
        "\n",
        "for depth in maxDepth:\n",
        "    clf = tree.DecisionTreeClassifier(max_depth=depth)\n",
        "\n",
        "    clf = clf.fit(X_train, y_train)\n",
        "    y_predictTrain = clf.predict(X_train)\n",
        "    y_predictTest = clf.predict(X_test)\n",
        "    # Calculate training accuracy and store it in trainaccuracy list\n",
        "    trainaccuracy.append(accuracy_score(y_train, y_predictTrain))\n",
        "    # Calculate test accuracy and store it in testAcc list\n",
        "    testAcc.append(accuracy_score(y_test, y_predictTest))\n",
        "\n",
        "\n"
      ],
      "metadata": {
        "id": "0ti18XLKVKPp"
      },
      "execution_count": 77,
      "outputs": []
    },
    {
      "cell_type": "code",
      "source": [
        "trainaccuracy"
      ],
      "metadata": {
        "colab": {
          "base_uri": "https://localhost:8080/"
        },
        "id": "iTq0fhHLZOcJ",
        "outputId": "7a527518-64cb-466d-a2c9-6ac4a7942daa"
      },
      "execution_count": 78,
      "outputs": [
        {
          "output_type": "execute_result",
          "data": {
            "text/plain": [
              "[0.6391666666666667,\n",
              " 0.6825,\n",
              " 0.7241666666666666,\n",
              " 0.735,\n",
              " 0.7666666666666667,\n",
              " 0.7783333333333333,\n",
              " 0.7975,\n",
              " 0.8166666666666667,\n",
              " 0.8416666666666667,\n",
              " 0.9175,\n",
              " 0.97,\n",
              " 0.9925,\n",
              " 0.9991666666666666,\n",
              " 1.0,\n",
              " 1.0,\n",
              " 1.0,\n",
              " 1.0,\n",
              " 1.0]"
            ]
          },
          "metadata": {},
          "execution_count": 78
        }
      ]
    },
    {
      "cell_type": "code",
      "source": [
        "testAcc"
      ],
      "metadata": {
        "colab": {
          "base_uri": "https://localhost:8080/"
        },
        "id": "bKLW113FZWUP",
        "outputId": "41a960bc-c828-4193-e205-f9198d09b3fb"
      },
      "execution_count": 81,
      "outputs": [
        {
          "output_type": "execute_result",
          "data": {
            "text/plain": [
              "[0.5933333333333334,\n",
              " 0.6366666666666667,\n",
              " 0.71,\n",
              " 0.7166666666666667,\n",
              " 0.7533333333333333,\n",
              " 0.7366666666666667,\n",
              " 0.7333333333333333,\n",
              " 0.7266666666666667,\n",
              " 0.7233333333333334,\n",
              " 0.74,\n",
              " 0.7466666666666667,\n",
              " 0.6966666666666667,\n",
              " 0.72,\n",
              " 0.72,\n",
              " 0.7133333333333334,\n",
              " 0.7133333333333334,\n",
              " 0.7166666666666667,\n",
              " 0.7266666666666667]"
            ]
          },
          "metadata": {},
          "execution_count": 81
        }
      ]
    },
    {
      "cell_type": "code",
      "source": [
        "import matplotlib.pyplot as plt"
      ],
      "metadata": {
        "id": "qmYaODNIZfHb"
      },
      "execution_count": 83,
      "outputs": []
    },
    {
      "cell_type": "code",
      "source": [
        "%matplotlib inline"
      ],
      "metadata": {
        "id": "slvoMo8_aJYA"
      },
      "execution_count": 84,
      "outputs": []
    },
    {
      "cell_type": "code",
      "source": [
        "plt.plot(maxDepth, trainaccuracy, 'ro-',maxDepth,testAcc,'b4--')\n",
        "plt.legend(\"Training Accuracy\",\"Test Accuracy\")\n",
        "plt.xlabel(\"Max Depth\")\n",
        "plt.ylabel(\"Accuracy\")"
      ],
      "metadata": {
        "colab": {
          "base_uri": "https://localhost:8080/",
          "height": 536
        },
        "id": "koPGXgjYZim1",
        "outputId": "bef8f565-9c43-4d03-a42f-8e70e87541d8"
      },
      "execution_count": 85,
      "outputs": [
        {
          "output_type": "stream",
          "name": "stderr",
          "text": [
            "<ipython-input-85-5f969e66fc95>:2: UserWarning: Legend does not support handles for str instances.\n",
            "A proxy artist may be used instead.\n",
            "See: https://matplotlib.org/stable/tutorials/intermediate/legend_guide.html#controlling-the-legend-entries\n",
            "  plt.legend(\"Training Accuracy\",\"Test Accuracy\")\n"
          ]
        },
        {
          "output_type": "execute_result",
          "data": {
            "text/plain": [
              "Text(0, 0.5, 'Accuracy')"
            ]
          },
          "metadata": {},
          "execution_count": 85
        },
        {
          "output_type": "display_data",
          "data": {
            "text/plain": [
              "<Figure size 640x480 with 1 Axes>"
            ],
            "image/png": "[encoded data removed]"
          },
          "metadata": {}
        }
      ]
    },
    {
      "cell_type": "markdown",
      "source": [
        "how do you tell the highest point is 6?"
      ],
      "metadata": {
        "id": "9kfx-vBLbY94"
      }
    }
  ]
}